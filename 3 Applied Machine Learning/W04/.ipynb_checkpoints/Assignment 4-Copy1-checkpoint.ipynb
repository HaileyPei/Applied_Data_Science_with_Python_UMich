{
 "cells": [
  {
   "cell_type": "markdown",
   "metadata": {},
   "source": [
    "---\n",
    "\n",
    "_You are currently looking at **version 1.0** of this notebook. To download notebooks and datafiles, as well as get help on Jupyter notebooks in the Coursera platform, visit the [Jupyter Notebook FAQ](https://www.coursera.org/learn/python-machine-learning/resources/bANLa) course resource._\n",
    "\n",
    "---"
   ]
  },
  {
   "cell_type": "markdown",
   "metadata": {},
   "source": [
    "## Assignment 4 - Understanding and Predicting Property Maintenance Fines\n",
    "\n",
    "This assignment is based on a data challenge from the Michigan Data Science Team ([MDST](http://midas.umich.edu/mdst/)). \n",
    "\n",
    "The Michigan Data Science Team ([MDST](http://midas.umich.edu/mdst/)) and the Michigan Student Symposium for Interdisciplinary Statistical Sciences ([MSSISS](https://sites.lsa.umich.edu/mssiss/)) have partnered with the City of Detroit to help solve one of the most pressing problems facing Detroit - blight. [Blight violations](http://www.detroitmi.gov/How-Do-I/Report/Blight-Complaint-FAQs) are issued by the city to individuals who allow their properties to remain in a deteriorated condition. Every year, the city of Detroit issues millions of dollars in fines to residents and every year, many of these fines remain unpaid. Enforcing unpaid blight fines is a costly and tedious process, so the city wants to know: how can we increase blight ticket compliance?\n",
    "\n",
    "The first step in answering this question is understanding when and why a resident might fail to comply with a blight ticket. This is where predictive modeling comes in. For this assignment, your task is to predict whether a given blight ticket will be paid on time.\n",
    "\n",
    "All data for this assignment has been provided to us through the [Detroit Open Data Portal](https://data.detroitmi.gov/). **Only the data already included in your Coursera directory can be used for training the model for this assignment.** Nonetheless, we encourage you to look into data from other Detroit datasets to help inform feature creation and model selection. We recommend taking a look at the following related datasets:\n",
    "\n",
    "* [Building Permits](https://data.detroitmi.gov/Property-Parcels/Building-Permits/xw2a-a7tf)\n",
    "* [Trades Permits](https://data.detroitmi.gov/Property-Parcels/Trades-Permits/635b-dsgv)\n",
    "* [Improve Detroit: Submitted Issues](https://data.detroitmi.gov/Government/Improve-Detroit-Submitted-Issues/fwz3-w3yn)\n",
    "* [DPD: Citizen Complaints](https://data.detroitmi.gov/Public-Safety/DPD-Citizen-Complaints-2016/kahe-efs3)\n",
    "* [Parcel Map](https://data.detroitmi.gov/Property-Parcels/Parcel-Map/fxkw-udwf)\n",
    "\n",
    "___\n",
    "\n",
    "We provide you with two data files for use in training and validating your models: train.csv and test.csv. Each row in these two files corresponds to a single blight ticket, and includes information about when, why, and to whom each ticket was issued. The target variable is compliance, which is True if the ticket was paid early, on time, or within one month of the hearing data, False if the ticket was paid after the hearing date or not at all, and Null if the violator was found not responsible. Compliance, as well as a handful of other variables that will not be available at test-time, are only included in train.csv.\n",
    "\n",
    "Note: All tickets where the violators were found not responsible are not considered during evaluation. They are included in the training set as an additional source of data for visualization, and to enable unsupervised and semi-supervised approaches. However, they are not included in the test set.\n",
    "\n",
    "<br>\n",
    "\n",
    "**File descriptions** (Use only this data for training your model!)\n",
    "\n",
    "    train.csv - the training set (all tickets issued 2004-2011)\n",
    "    test.csv - the test set (all tickets issued 2012-2016)\n",
    "    addresses.csv & latlons.csv - mapping from ticket id to addresses, and from addresses to lat/lon coordinates. \n",
    "     Note: misspelled addresses may be incorrectly geolocated.\n",
    "\n",
    "<br>\n",
    "\n",
    "**Data fields**\n",
    "\n",
    "train.csv & test.csv\n",
    "\n",
    "    ticket_id - unique identifier for tickets\n",
    "    agency_name - Agency that issued the ticket\n",
    "    inspector_name - Name of inspector that issued the ticket\n",
    "    violator_name - Name of the person/organization that the ticket was issued to\n",
    "    violation_street_number, violation_street_name, violation_zip_code - Address where the violation occurred\n",
    "    mailing_address_str_number, mailing_address_str_name, city, state, zip_code, non_us_str_code, country - Mailing address of the violator\n",
    "    ticket_issued_date - Date and time the ticket was issued\n",
    "    hearing_date - Date and time the violator's hearing was scheduled\n",
    "    violation_code, violation_description - Type of violation\n",
    "    disposition - Judgment and judgement type\n",
    "    fine_amount - Violation fine amount, excluding fees\n",
    "    admin_fee - $20 fee assigned to responsible judgments\n",
    "state_fee - $10 fee assigned to responsible judgments\n",
    "    late_fee - 10% fee assigned to responsible judgments\n",
    "    discount_amount - discount applied, if any\n",
    "    clean_up_cost - DPW clean-up or graffiti removal cost\n",
    "    judgment_amount - Sum of all fines and fees\n",
    "    grafitti_status - Flag for graffiti violations\n",
    "    \n",
    "train.csv only\n",
    "\n",
    "    payment_amount - Amount paid, if any\n",
    "    payment_date - Date payment was made, if it was received\n",
    "    payment_status - Current payment status as of Feb 1 2017\n",
    "    balance_due - Fines and fees still owed\n",
    "    collection_status - Flag for payments in collections\n",
    "    compliance [target variable for prediction] \n",
    "     Null = Not responsible\n",
    "     0 = Responsible, non-compliant\n",
    "     1 = Responsible, compliant\n",
    "    compliance_detail - More information on why each ticket was marked compliant or non-compliant\n",
    "\n",
    "\n",
    "___\n",
    "\n",
    "## Evaluation\n",
    "\n",
    "Your predictions will be given as the probability that the corresponding blight ticket will be paid on time.\n",
    "\n",
    "The evaluation metric for this assignment is the Area Under the ROC Curve (AUC). \n",
    "\n",
    "Your grade will be based on the AUC score computed for your classifier. A model which with an AUROC of 0.7 passes this assignment, over 0.75 will recieve full points.\n",
    "___\n",
    "\n",
    "For this assignment, create a function that trains a model to predict blight ticket compliance in Detroit using `train.csv`. Using this model, return a series of length 61001 with the data being the probability that each corresponding ticket from `test.csv` will be paid, and the index being the ticket_id.\n",
    "\n",
    "Example:\n",
    "\n",
    "    ticket_id\n",
    "       284932    0.531842\n",
    "       285362    0.401958\n",
    "       285361    0.105928\n",
    "       285338    0.018572\n",
    "                 ...\n",
    "       376499    0.208567\n",
    "       376500    0.818759\n",
    "       369851    0.018528\n",
    "       Name: compliance, dtype: float32"
   ]
  },
  {
   "cell_type": "markdown",
   "metadata": {},
   "source": [
    "## 1 Read data"
   ]
  },
  {
   "cell_type": "code",
   "execution_count": 1,
   "metadata": {
    "collapsed": true
   },
   "outputs": [],
   "source": [
    "def read_data():\n",
    "    import pandas as pd\n",
    "    import numpy as np\n",
    "\n",
    "    train_df = pd.read_csv('train.csv', dtype={11:str, 12:str, 31:str}, encoding='mac_roman')\n",
    "    train_df = train_df[train_df.compliance.notnull()]\n",
    "\n",
    "    test_df = pd.read_csv('test.csv')\n",
    "    test_df.set_index('ticket_id', inplace=True)\n",
    "\n",
    "    return train_df, test_df"
   ]
  },
  {
   "cell_type": "markdown",
   "metadata": {},
   "source": [
    "### 1.1 Map Address"
   ]
  },
  {
   "cell_type": "code",
   "execution_count": 2,
   "metadata": {
    "collapsed": true
   },
   "outputs": [],
   "source": [
    "def map_address(train_df, test_df):\n",
    "    import pandas as pd\n",
    "    from collections import Counter\n",
    "    addr_df = pd.read_csv('addresses.csv')\n",
    "    latlons_df = pd.read_csv('latlons.csv')\n",
    "\n",
    "    addr_df = addr_df.merge(latlons_df, left_on='address', right_on='address')\n",
    "\n",
    "    train_df = train_df.merge(addr_df, left_on='ticket_id', right_on='ticket_id')\n",
    "    train_df.drop(['violation_street_number', 'violation_street_name', 'address'], axis=1, inplace=True)\n",
    "\n",
    "    addr_df.drop('ticket_id', axis=1, inplace=True)\n",
    "    addr_df['address'] = addr_df['address'].str.split(',').str.get(0)\n",
    "    addr_df.drop_duplicates('address', inplace=True)\n",
    "\n",
    "    test_df['address'] = test_df['violation_street_number'].astype('int').astype('str') + ' ' + test_df['violation_street_name'].str.lower()\n",
    "    test_df = test_df.merge(addr_df, left_on='address', right_on='address', how='left')\n",
    "    test_df.drop(['violation_street_name', 'violation_street_number', 'address', 'violation_zip_code',\n",
    "                  'grafitti_status', 'non_us_str_code', 'violation_description'], axis=1, inplace=True)\n",
    "    \n",
    "    lat_counter = dict(Counter(train_df.lat))\n",
    "    lon_counter = dict(Counter(train_df.lon))\n",
    "\n",
    "    lat_impute = sorted(lat_counter, key=lat_counter.get, reverse=True)[0]\n",
    "    lon_impute = sorted(lon_counter, key=lon_counter.get, reverse=True)[0]\n",
    "\n",
    "    train_df['lat'].fillna(lat_impute, inplace=True)\n",
    "    train_df['lon'].fillna(lon_impute, inplace=True)\n",
    "\n",
    "    test_df['lat'].fillna(lat_impute, inplace=True)\n",
    "    test_df['lon'].fillna(lon_impute, inplace=True)\n",
    "    \n",
    "    # Combine mailing address\n",
    "    train_df['mailing_address'] = train_df['mailing_address_str_number'].astype(str) + ' ' + train_df['mailing_address_str_name'].astype(str)\n",
    "    test_df['mailing_address'] = test_df['mailing_address_str_number'].astype(str) + ' ' + test_df['mailing_address_str_name'].astype(str)\n",
    "    \n",
    "    del train_df['mailing_address_str_number'], train_df['mailing_address_str_name'], test_df['mailing_address_str_number'], test_df['mailing_address_str_name']\n",
    "    return train_df, test_df"
   ]
  },
  {
   "cell_type": "markdown",
   "metadata": {},
   "source": [
    "### 1.2 Split X, y from train_df"
   ]
  },
  {
   "cell_type": "code",
   "execution_count": 3,
   "metadata": {
    "collapsed": true
   },
   "outputs": [],
   "source": [
    "def get_X_y(train_df):\n",
    "    target = 'compliance'\n",
    "    column_names = list(train_df.columns)\n",
    "    column_names.remove(target)\n",
    "\n",
    "    X = train_df[column_names].copy()\n",
    "    y = train_df[target].copy()\n",
    "    \n",
    "    return X, y"
   ]
  },
  {
   "cell_type": "markdown",
   "metadata": {},
   "source": [
    "## 2 Features Selection"
   ]
  },
  {
   "cell_type": "markdown",
   "metadata": {},
   "source": [
    "### 2.1 Remove features not in test data"
   ]
  },
  {
   "cell_type": "code",
   "execution_count": 4,
   "metadata": {
    "collapsed": true
   },
   "outputs": [],
   "source": [
    "def drop_features_not_in_test(X):\n",
    "    X.drop(['payment_amount', 'payment_date', 'payment_status', 'balance_due', 'collection_status', 'compliance_detail'], \n",
    "           axis=1, inplace=True)\n",
    "    \n",
    "    return X"
   ]
  },
  {
   "cell_type": "markdown",
   "metadata": {},
   "source": [
    "### 2.2 Remove useless features which has very few valid data"
   ]
  },
  {
   "cell_type": "code",
   "execution_count": 5,
   "metadata": {
    "collapsed": true
   },
   "outputs": [],
   "source": [
    "def drop_useless_features(X):\n",
    "    # Drop ticket_id and missing value features and redundant features\n",
    "    # As date in train and test are different, so drop the date features\n",
    "    X.drop(['ticket_id', 'violation_zip_code', 'non_us_str_code', 'grafitti_status', \n",
    "            'violation_description', 'admin_fee', 'state_fee', 'clean_up_cost',\n",
    "            'discount_amount', 'ticket_issued_date', 'hearing_date'], axis=1, inplace=True)\n",
    "    \n",
    "    return X"
   ]
  },
  {
   "cell_type": "markdown",
   "metadata": {},
   "source": [
    "### 2.3 Remove other features"
   ]
  },
  {
   "cell_type": "code",
   "execution_count": 6,
   "metadata": {
    "collapsed": true
   },
   "outputs": [],
   "source": [
    "def remove_other_features(X, test_df):\n",
    "    columns = ['agency_name',\n",
    "               'inspector_name',\n",
    "               'violator_name',\n",
    "               'mailing_address',\n",
    "               'city',\n",
    "               'state',\n",
    "               'zip_code',\n",
    "               'country',\n",
    "               'violation_code',\n",
    "               'disposition',\n",
    "               'lat',\n",
    "               'lon']\n",
    "    X = X[columns]\n",
    "    test_df = test_df[columns]\n",
    "    return X, test_df"
   ]
  },
  {
   "cell_type": "markdown",
   "metadata": {},
   "source": [
    "### 2.3 Encoding string variables"
   ]
  },
  {
   "cell_type": "code",
   "execution_count": 7,
   "metadata": {
    "collapsed": true
   },
   "outputs": [],
   "source": [
    "def encode_blight(X, test_df):\n",
    "    import pandas as pd\n",
    "    from sklearn.preprocessing import LabelEncoder\n",
    "    le = LabelEncoder()\n",
    "\n",
    "    for column in X.columns:\n",
    "        values_in_X = set(X[column].astype(str).unique())\n",
    "        column_with_dummy = X[column].astype(str).append(pd.Series(['dummy']), ignore_index=True)\n",
    "        column_encoded = le.fit_transform(column_with_dummy)\n",
    "        X[column] = column_encoded[:-1]\n",
    "\n",
    "        test_df[column] = test_df[column].astype(str)\n",
    "        test_df[column] = test_df[column].apply(lambda x: x if x in values_in_X else 'dummy')\n",
    "\n",
    "        column_encoded_test = le.transform(test_df[column])\n",
    "        test_df[column] = column_encoded_test\n",
    "        \n",
    "    return X, test_df"
   ]
  },
  {
   "cell_type": "markdown",
   "metadata": {},
   "source": [
    "### 2.4 Split training data and testing data for modelling"
   ]
  },
  {
   "cell_type": "code",
   "execution_count": 8,
   "metadata": {
    "collapsed": true
   },
   "outputs": [],
   "source": [
    "def split_data(X, y):\n",
    "    from sklearn.model_selection import train_test_split\n",
    "    X_train, X_test, y_train, y_test = train_test_split(X, y, random_state = 0)\n",
    "    \n",
    "    return X_train, X_test, y_train, y_test"
   ]
  },
  {
   "cell_type": "markdown",
   "metadata": {},
   "source": [
    "### 2.5 Define basic classifiers"
   ]
  },
  {
   "cell_type": "code",
   "execution_count": 9,
   "metadata": {
    "collapsed": true
   },
   "outputs": [],
   "source": [
    "def define_basic_classifiers():\n",
    "    \n",
    "    clf_dict = dict()\n",
    "    from sklearn.ensemble import GradientBoostingClassifier\n",
    "    clf = GradientBoostingClassifier()\n",
    "    clf_dict['Gradient Boosting Classifier'] = clf\n",
    "    from sklearn.ensemble import AdaBoostClassifier\n",
    "    clf = AdaBoostClassifier()\n",
    "    clf_dict['AdaBoost Classifier'] = clf\n",
    "    from sklearn.ensemble import RandomForestClassifier\n",
    "    clf = RandomForestClassifier()\n",
    "    clf_dict['Random Forest Classifier'] = clf\n",
    "    from sklearn.neighbors import KNeighborsClassifier\n",
    "    clf = KNeighborsClassifier()\n",
    "    clf_dict['KNeighbors Classifier'] = clf\n",
    "    from sklearn.neighbors import KNeighborsClassifier\n",
    "    clf = KNeighborsClassifier()\n",
    "    clf_dict['KNeighbors Classifier'] = clf\n",
    "    from sklearn.neural_network import MLPClassifier\n",
    "    clf = MLPClassifier()\n",
    "    clf_dict['MLPClassifier Classifier'] = clf\n",
    "\n",
    "    return clf_dict"
   ]
  },
  {
   "cell_type": "markdown",
   "metadata": {},
   "source": [
    "### 2.6 Build first models"
   ]
  },
  {
   "cell_type": "code",
   "execution_count": 10,
   "metadata": {
    "collapsed": true
   },
   "outputs": [],
   "source": [
    "def build_models(X_train, y_train, test_df, clf_dict):\n",
    "    import pandas as pd\n",
    "    from sklearn.metrics import roc_auc_score\n",
    "    \n",
    "    for clf_name, clf in clf_dict.items():\n",
    "        clf.fit(X_train, y_train)\n",
    "\n",
    "        auc = roc_auc_score(y_test, clf.predict_proba(X_test)[:, 1])\n",
    "        print(clf_name, 'auc score:', auc)"
   ]
  },
  {
   "cell_type": "code",
   "execution_count": 11,
   "metadata": {
    "collapsed": true
   },
   "outputs": [],
   "source": [
    "def get_auc(X_new, y_train):\n",
    "    from sklearn.ensemble import GradientBoostingClassifier\n",
    "    clf = GradientBoostingClassifier()\n",
    "    \n",
    "    from sklearn.model_selection import cross_val_score\n",
    "    print('Cross-validation (AUC)', cross_val_score(clf, X_train, y_train, cv=5, scoring = 'roc_auc'))"
   ]
  },
  {
   "cell_type": "code",
   "execution_count": 12,
   "metadata": {
    "collapsed": true
   },
   "outputs": [],
   "source": [
    "def feature_selection(X_train, y_train):\n",
    "    from sklearn.ensemble import GradientBoostingClassifier\n",
    "    clf = GradientBoostingClassifier()\n",
    "    from sklearn.feature_selection import SelectFromModel\n",
    "    clf = clf.fit(X_train, y_train)\n",
    "    print(\"X_train feature importances:\")\n",
    "    feature_importance = dict(zip(X_train.columns, clf.feature_importances_))\n",
    "    print(sorted(feature_importance.items(), key=lambda x:x[1], reverse=True))\n",
    "    model = SelectFromModel(clf, prefit=True)\n",
    "    X_new = model.transform(X_train)\n",
    "    print(\"X_new shape:\", X_new.shape)\n",
    "    print(\"AUC on X_train\")\n",
    "    get_auc(X_train, y_train)\n",
    "    print(\"AUC on X_new\")\n",
    "    get_auc(X_new, y_train)\n",
    "    print(\"Selected features\")\n",
    "    print(X_train.columns[model.get_support()])\n",
    "    return list(X_train.columns[model.get_support()])"
   ]
  },
  {
   "cell_type": "code",
   "execution_count": 28,
   "metadata": {},
   "outputs": [],
   "source": [
    "def params_choose(X_train, y_train, X_test, y_test, grid_values_list=None, clf=None):\n",
    "    from sklearn.model_selection import GridSearchCV\n",
    "    from sklearn.ensemble import GradientBoostingClassifier\n",
    "    from sklearn.metrics import roc_auc_score\n",
    "\n",
    "    if clf == None:\n",
    "        clf = GradientBoostingClassifier()\n",
    "\n",
    "    for grid_values in grid_values_list:\n",
    "        # alternative metric to optimize over grid parameters: AUC\n",
    "        grid_clf_auc = GridSearchCV(clf, param_grid = grid_values, scoring = 'roc_auc')\n",
    "        grid_clf_auc.fit(X_train, y_train)\n",
    "\n",
    "        print('Grid best parameter (max. AUC): ', grid_clf_auc.best_params_)\n",
    "        print('Grid best score (AUC): ', grid_clf_auc.best_score_)\n",
    "    \n",
    "    return grid_clf_auc.best_params_"
   ]
  },
  {
   "cell_type": "code",
   "execution_count": 14,
   "metadata": {
    "collapsed": true
   },
   "outputs": [],
   "source": [
    "def build_final_model(X_train, y_train, test_df):\n",
    "    import pandas as pd\n",
    "    \n",
    "    from sklearn.ensemble import GradientBoostingClassifier\n",
    "    clf = GradientBoostingClassifier(learning_rate=0.1, max_depth=5, n_estimators=500)\n",
    "    clf.fit(X_train, y_train)\n",
    "\n",
    "    pred = clf.predict_proba(test_df[X_train.columns])\n",
    "    pred = pred[:,1]\n",
    "\n",
    "    result = pd.Series(pred, index=test_df.index)\n",
    "    result = result.astype('float32')\n",
    "    \n",
    "    return result # Your answer here"
   ]
  },
  {
   "cell_type": "markdown",
   "metadata": {
    "collapsed": true
   },
   "source": [
    "## Complete process of building model"
   ]
  },
  {
   "cell_type": "code",
   "execution_count": 15,
   "metadata": {
    "collapsed": true
   },
   "outputs": [],
   "source": [
    "train_df, test_df = read_data()"
   ]
  },
  {
   "cell_type": "code",
   "execution_count": 16,
   "metadata": {
    "collapsed": true
   },
   "outputs": [],
   "source": [
    "train_df, test_df = map_address(train_df, test_df)"
   ]
  },
  {
   "cell_type": "code",
   "execution_count": 17,
   "metadata": {
    "collapsed": true
   },
   "outputs": [],
   "source": [
    "X, y = get_X_y(train_df)"
   ]
  },
  {
   "cell_type": "code",
   "execution_count": 18,
   "metadata": {
    "collapsed": true
   },
   "outputs": [],
   "source": [
    "X = drop_features_not_in_test(X)"
   ]
  },
  {
   "cell_type": "code",
   "execution_count": 19,
   "metadata": {
    "collapsed": true
   },
   "outputs": [],
   "source": [
    "X = drop_useless_features(X)"
   ]
  },
  {
   "cell_type": "code",
   "execution_count": 20,
   "metadata": {
    "collapsed": true
   },
   "outputs": [],
   "source": [
    "X, test_df = remove_other_features(X, test_df)"
   ]
  },
  {
   "cell_type": "code",
   "execution_count": 21,
   "metadata": {
    "collapsed": true
   },
   "outputs": [],
   "source": [
    "X, test_df = encode_blight(X, test_df)"
   ]
  },
  {
   "cell_type": "code",
   "execution_count": 22,
   "metadata": {
    "collapsed": true
   },
   "outputs": [],
   "source": [
    "X_train, X_test, y_train, y_test = split_data(X, y)"
   ]
  },
  {
   "cell_type": "code",
   "execution_count": 23,
   "metadata": {
    "collapsed": true
   },
   "outputs": [],
   "source": [
    "clf_dict = define_basic_classifiers()"
   ]
  },
  {
   "cell_type": "code",
   "execution_count": 24,
   "metadata": {},
   "outputs": [
    {
     "name": "stdout",
     "output_type": "stream",
     "text": [
      "Gradient Boosting Classifier auc score: 0.787897645888\n",
      "AdaBoost Classifier auc score: 0.778315173045\n",
      "Random Forest Classifier auc score: 0.760494991606\n",
      "KNeighbors Classifier auc score: 0.620473655515\n",
      "MLPClassifier Classifier auc score: 0.50506224141\n"
     ]
    }
   ],
   "source": [
    "build_models(X_train, y_train, test_df, clf_dict)"
   ]
  },
  {
   "cell_type": "code",
   "execution_count": null,
   "metadata": {},
   "outputs": [],
   "source": [
    "from sklearn.neural_network import MLPClassifier\n",
    "clf = MLPClassifier()\n",
    "\n",
    "grid_values_list = [{'alpha': [0.001, 0.01, 0.1, 1, 5, 10, 100, 1000]},\n",
    "                    {'activation': ['relu', 'tanh', 'logistic']},\n",
    "                    {'hidden_layer_sizes': [(100,), (1000,), (2000,)]}]\n",
    "params = params_choose(X_train, y_train, X_test, y_test, grid_values_list, clf)"
   ]
  },
  {
   "cell_type": "code",
   "execution_count": null,
   "metadata": {
    "collapsed": true
   },
   "outputs": [],
   "source": [
    "MLPClassifier."
   ]
  },
  {
   "cell_type": "code",
   "execution_count": 25,
   "metadata": {},
   "outputs": [
    {
     "name": "stdout",
     "output_type": "stream",
     "text": [
      "Cross-validation (AUC) [ 0.79388958  0.77430978  0.79049512  0.78888198  0.78816778]\n"
     ]
    }
   ],
   "source": [
    "get_auc(X_train, y_train)"
   ]
  },
  {
   "cell_type": "code",
   "execution_count": 26,
   "metadata": {},
   "outputs": [
    {
     "name": "stdout",
     "output_type": "stream",
     "text": [
      "X_train feature importances:\n",
      "[('disposition', 0.31225552049657596), ('violation_code', 0.15260585630171813), ('lat', 0.089330953469486024), ('lon', 0.088592254310314922), ('inspector_name', 0.076327306795465427), ('mailing_address', 0.066126123941238402), ('violator_name', 0.057970750898616911), ('city', 0.056301186535166921), ('agency_name', 0.041457694723067616), ('zip_code', 0.032023926221354027), ('state', 0.02622318827089232), ('country', 0.00078523803610340602)]\n",
      "X_new shape: (119910, 4)\n",
      "AUC on X_train\n",
      "Cross-validation (AUC) [ 0.79387881  0.77430338  0.79049182  0.78888903  0.7881411 ]\n",
      "AUC on X_new\n",
      "Cross-validation (AUC) [ 0.79383898  0.77430872  0.79049226  0.78888513  0.78815272]\n",
      "Selected features\n",
      "Index(['violation_code', 'disposition', 'lat', 'lon'], dtype='object')\n"
     ]
    }
   ],
   "source": [
    "new_columns = feature_selection(X_train, y_train)"
   ]
  },
  {
   "cell_type": "code",
   "execution_count": 27,
   "metadata": {
    "collapsed": true
   },
   "outputs": [],
   "source": [
    "X = X[new_columns]"
   ]
  },
  {
   "cell_type": "code",
   "execution_count": 28,
   "metadata": {
    "collapsed": true
   },
   "outputs": [],
   "source": [
    "X_train, X_test, y_train, y_test = split_data(X, y)"
   ]
  },
  {
   "cell_type": "code",
   "execution_count": 34,
   "metadata": {},
   "outputs": [
    {
     "name": "stdout",
     "output_type": "stream",
     "text": [
      "Test set AUC:  0.792047559714\n",
      "Grid best parameter (max. AUC):  {'learning_rate': 0.5}\n",
      "Grid best score (AUC):  0.788979653707\n",
      "Test set AUC:  0.797796878354\n",
      "Grid best parameter (max. AUC):  {'max_depth': 5}\n",
      "Grid best score (AUC):  0.793216621663\n",
      "Test set AUC:  0.799755050789\n",
      "Grid best parameter (max. AUC):  {'n_estimators': 500}\n",
      "Grid best score (AUC):  0.796282666206\n"
     ]
    }
   ],
   "source": [
    "grid_values_list = [{'learning_rate': [0.01, 0.1, 0.5]},\n",
    "                    {'max_depth': [3, 4, 5]},\n",
    "                    {'n_estimators': [50, 100, 200, 500]}]\n",
    "params = params_choose(X_train, y_train, X_test, grid_values_list)"
   ]
  },
  {
   "cell_type": "code",
   "execution_count": 30,
   "metadata": {
    "collapsed": true
   },
   "outputs": [],
   "source": [
    "result = build_final_model(X_train, y_train, test_df)"
   ]
  },
  {
   "cell_type": "markdown",
   "metadata": {},
   "source": [
    "## Return Sieres"
   ]
  },
  {
   "cell_type": "code",
   "execution_count": 31,
   "metadata": {
    "collapsed": true
   },
   "outputs": [],
   "source": [
    "import pandas as pd\n",
    "import numpy as np\n",
    "\n",
    "def blight_model():\n",
    "    train_df = pd.read_csv('train.csv', dtype={11:str, 12:str, 31:str}, encoding='mac_roman')\n",
    "    train_df = train_df[train_df.compliance.notnull()]\n",
    "\n",
    "    test_df = pd.read_csv('test.csv')\n",
    "\n",
    "    addr_df = pd.read_csv('addresses.csv')\n",
    "    latlons_df = pd.read_csv('latlons.csv')\n",
    "\n",
    "    addr_df = addr_df.merge(latlons_df, left_on='address', right_on='address')\n",
    "\n",
    "    train_df = train_df.merge(addr_df, left_on='ticket_id', right_on='ticket_id')\n",
    "    train_df.drop(['violation_street_number', 'violation_street_name', 'address'], axis=1, inplace=True)\n",
    "\n",
    "    addr_df.drop('ticket_id', axis=1, inplace=True)\n",
    "    addr_df['address'] = addr_df['address'].str.split(',').str.get(0)\n",
    "    addr_df.drop_duplicates('address', inplace=True)\n",
    "\n",
    "    test_df['address'] = test_df['violation_street_number'].astype('int').astype('str') + ' ' + test_df['violation_street_name'].str.lower()\n",
    "    test_df = test_df.merge(addr_df, left_on='address', right_on='address', how='left')\n",
    "\n",
    "    target = 'compliance'\n",
    "\n",
    "    columns = ['violation_code', 'disposition', 'lat', 'lon']\n",
    "    X = train_df[columns].copy()\n",
    "    y = train_df[target].copy()\n",
    "    \n",
    "    from sklearn.preprocessing import LabelEncoder\n",
    "    le = LabelEncoder()\n",
    "    \n",
    "    for column in columns:\n",
    "        values_in_X = set(X[column].astype(str).unique())\n",
    "        column_with_dummy = X[column].astype(str).append(pd.Series(['dummy']), ignore_index=True)\n",
    "        column_encoded = le.fit_transform(column_with_dummy)\n",
    "        X[column] = column_encoded[:-1]\n",
    "\n",
    "        test_df[column] = test_df[column].astype(str)\n",
    "        test_df[column] = test_df[column].apply(lambda x: x if x in values_in_X else 'dummy')\n",
    "\n",
    "        column_encoded_test = le.transform(test_df[column])\n",
    "        test_df[column] = column_encoded_test\n",
    "        \n",
    "    from sklearn.model_selection import train_test_split\n",
    "    X_train, X_test, y_train, y_test = train_test_split(X, y, random_state = 0)\n",
    "    \n",
    "    from sklearn.ensemble import GradientBoostingClassifier\n",
    "    clf = GradientBoostingClassifier()\n",
    "    clf.fit(X_train, y_train)\n",
    "\n",
    "    pred = clf.predict_proba(test_df[columns])\n",
    "    pred = pred[:,1]\n",
    "\n",
    "    result = pd.Series(pred, index=test_df['ticket_id'])\n",
    "    result = result.astype('float32')\n",
    "    \n",
    "    return result # Your answer here"
   ]
  },
  {
   "cell_type": "code",
   "execution_count": 32,
   "metadata": {
    "collapsed": true
   },
   "outputs": [],
   "source": [
    "result1 = blight_model()"
   ]
  },
  {
   "cell_type": "code",
   "execution_count": null,
   "metadata": {
    "collapsed": true
   },
   "outputs": [],
   "source": []
  }
 ],
 "metadata": {
  "coursera": {
   "course_slug": "python-machine-learning",
   "graded_item_id": "nNS8l",
   "launcher_item_id": "yWWk7",
   "part_id": "w8BSS"
  },
  "kernelspec": {
   "display_name": "Python 3",
   "language": "python",
   "name": "python3"
  },
  "language_info": {
   "codemirror_mode": {
    "name": "ipython",
    "version": 3
   },
   "file_extension": ".py",
   "mimetype": "text/x-python",
   "name": "python",
   "nbconvert_exporter": "python",
   "pygments_lexer": "ipython3",
   "version": "3.6.1"
  }
 },
 "nbformat": 4,
 "nbformat_minor": 2
}
